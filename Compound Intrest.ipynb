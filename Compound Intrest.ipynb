{
 "cells": [
  {
   "cell_type": "code",
   "execution_count": 83,
   "metadata": {},
   "outputs": [],
   "source": [
    "import pandas as pd\n",
    "import numpy as np"
   ]
  },
  {
   "cell_type": "code",
   "execution_count": 84,
   "metadata": {},
   "outputs": [],
   "source": [
    "x = np.arange(0, 50, 0.1)\n",
    "x = np.concatenate((x[:500], x[:200], x[:200], x[:200]))"
   ]
  },
  {
   "cell_type": "code",
   "execution_count": 85,
   "metadata": {},
   "outputs": [],
   "source": [
    "y1 = np.arange(0.01, 1, 0.01)\n",
    "y2 = np.arange(1, 100)\n",
    "y3 = np.arange(100, 1000)\n",
    "y4 = np.arange(1000, 10000)\n",
    "y4 = np.arange(1000, 100000)\n",
    "y5 = np.arange(1000000, 10000000)\n",
    "\n",
    "np.random.shuffle(y1)\n",
    "np.random.shuffle(y2)\n",
    "np.random.shuffle(y3)\n",
    "np.random.shuffle(y4)\n",
    "np.random.shuffle(y5)"
   ]
  },
  {
   "cell_type": "code",
   "execution_count": 86,
   "metadata": {},
   "outputs": [],
   "source": [
    "y = np.concatenate((y1[:1], y2[:10], y3[:20], y4[:140], y5[:20]))"
   ]
  },
  {
   "cell_type": "code",
   "execution_count": 87,
   "metadata": {},
   "outputs": [],
   "source": [
    "all_numbers = np.transpose([np.tile(x, len(y)), np.repeat(y, len(x))])\n",
    "df = pd.DataFrame(all_numbers)\n",
    "# df=df[df[0] < df[1]]\n",
    "df = df.sample(frac=1)[:20000].reset_index(drop=True)"
   ]
  },
  {
   "cell_type": "code",
   "execution_count": 88,
   "metadata": {},
   "outputs": [],
   "source": [
    "df[0] = df[0].apply(lambda x: '{0:.1f}'.format(x)).astype(str)\n",
    "df[1] = df[1].apply(lambda x: '{0:.1f}'.format(x)).astype(str)"
   ]
  },
  {
   "cell_type": "code",
   "execution_count": 89,
   "metadata": {},
   "outputs": [],
   "source": [
    "df[3] = np.random.randint(1,12, len(df))"
   ]
  },
  {
   "cell_type": "code",
   "execution_count": 90,
   "metadata": {},
   "outputs": [],
   "source": [
    "df['Question'] = + df[1] + \"$ at \" + df[0] + \"% for \" + df[3].astype(str) + \" years\""
   ]
  },
  {
   "cell_type": "code",
   "execution_count": 91,
   "metadata": {},
   "outputs": [],
   "source": [
    "df[0] = df[0].astype(float)\n",
    "df[1] = df[1].astype(float)\n",
    "df[3] = df[3].astype(float)"
   ]
  },
  {
   "cell_type": "code",
   "execution_count": 101,
   "metadata": {},
   "outputs": [],
   "source": [
    "df['Answer'] = ((1 + (df[0]/100)) ** (df[3]) * df[1]).astype(int)"
   ]
  },
  {
   "cell_type": "code",
   "execution_count": 102,
   "metadata": {},
   "outputs": [],
   "source": [
    "df[['Question', 'Answer']].sample(frac=1).to_csv(\"compound_interest.csv\", index=None, header=None)"
   ]
  },
  {
   "cell_type": "code",
   "execution_count": null,
   "metadata": {},
   "outputs": [],
   "source": [
    "#now make one for division"
   ]
  }
 ],
 "metadata": {
  "kernelspec": {
   "display_name": "Python [conda env:anaconda3]",
   "language": "python",
   "name": "conda-env-anaconda3-py"
  },
  "language_info": {
   "codemirror_mode": {
    "name": "ipython",
    "version": 3
   },
   "file_extension": ".py",
   "mimetype": "text/x-python",
   "name": "python",
   "nbconvert_exporter": "python",
   "pygments_lexer": "ipython3",
   "version": "3.5.6"
  }
 },
 "nbformat": 4,
 "nbformat_minor": 2
}
